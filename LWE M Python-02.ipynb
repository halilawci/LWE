{
  "nbformat": 4,
  "nbformat_minor": 0,
  "metadata": {
    "colab": {
      "provenance": []
    },
    "kernelspec": {
      "name": "python3",
      "display_name": "Python 3"
    },
    "language_info": {
      "name": "python"
    }
  },
  "cells": [
    {
      "cell_type": "markdown",
      "source": [
        "###  Workshop \n"
      ],
      "metadata": {
        "id": "n3BNpxyDM9k7"
      }
    },
    {
      "cell_type": "code",
      "source": [
        "''' burada programimizda kullanacagimiz on bilgileri yaziyoruz'''\n",
        "isimler=[]\n",
        "puan = 0\n",
        "dogru = 0\n",
        "yanlis = 0"
      ],
      "metadata": {
        "id": "loYvrdugqFN5"
      },
      "execution_count": null,
      "outputs": []
    },
    {
      "cell_type": "code",
      "execution_count": null,
      "metadata": {
        "id": "ffrGF8OUgH5b"
      },
      "outputs": [],
      "source": [
        "def tani():\n",
        "  ''' kisinin ismi daha önceden bu programı çalıştıranların arasında\n",
        "  olup olmadığı kontrol edilir. eğer varsa  \"seni tanıyorum\" return \n",
        "  eder. eğer tanımıyorsa \"seni ilk defa görüyorum\" return eder\n",
        "  ve ismi tanınanların listesine eklenir.'''\n",
        "  \n",
        "  return 0\n"
      ]
    },
    {
      "cell_type": "code",
      "source": [
        "def ters():\n",
        "  '''verilen stringin tersten yazilisi dogru mu yanlismi\n",
        "  kontrol eden bir fonksiyon yaziniz. Dogru ise '' Aferin sana\n",
        "  bildin'' return verecek ve puani 3 arttiracak dogru sayisini 1 arttiracak\n",
        "  yanlis ise bilemedin return edecek ve puani 1  eksiltecek \n",
        "  yanlis sayisini 1 arttiracak'''\n",
        "  return 0"
      ],
      "metadata": {
        "id": "hjWBHgZ-o-PJ"
      },
      "execution_count": null,
      "outputs": []
    },
    {
      "cell_type": "code",
      "source": [
        "def puan():\n",
        "  ''' bu fonksiyon kullanicinin su ana kadar kac dogru ve\n",
        "  kac yanlis yaptigini string olarak return edecek '''\n",
        "  return f\"{dogru} dogru {yanlis} yanlis\""
      ],
      "metadata": {
        "id": "Lcq52jC74xe4"
      },
      "execution_count": null,
      "outputs": []
    },
    {
      "cell_type": "code",
      "source": [
        "def cumle_kontrol():\n",
        "  '''cumle en az 5 kelimeden mi olusmus kontrol eden fonksiyon'''"
      ],
      "metadata": {
        "id": "tcOB7FN-J12v"
      },
      "execution_count": null,
      "outputs": []
    },
    {
      "cell_type": "code",
      "source": [
        "def cumle_son_iki():\n",
        "  ''' burada cumlenin sondan ikinci kelimesinin dogur olup olmadigi kontrol\n",
        "  edilecek. eger dogru ise Dogru ise '' Aferin sana\n",
        "  bildin'' return verecek ve puani 3 arttiracak dogru sayisini 1 arttiracak\n",
        "  yanlis ise bilemedin return edecek ve puani 1  eksiltecek \n",
        "  yanlis sayisini 1 arttiracak'''"
      ],
      "metadata": {
        "id": "h7L-F0aALg-2"
      },
      "execution_count": null,
      "outputs": []
    },
    {
      "cell_type": "code",
      "source": [
        "def fibonacci(a,b):\n",
        "  ''' a = kullanicinin verdigi sayi\n",
        "      b = kullanicinin verdigi cevap\n",
        "      Bu fonksiyonda verilen sayidan buyuk en kucuk fibonacci sayisinin\n",
        "       kullanicinin verdigi cevapla ayni olup olmadigi kontrol edilecek.\n",
        "       dogru ise Dogru ise '' Aferin sana\n",
        "       bildin'' return verecek ve puani 3 arttiracak dogru sayisini 1 arttiracak\n",
        "      yanlis ise bilemedin return edecek ve puani 1  eksiltecek \n",
        "      yanlis sayisini 1 arttiracak'''  "
      ],
      "metadata": {
        "id": "EwONYcYlUG5C"
      },
      "execution_count": null,
      "outputs": []
    },
    {
      "cell_type": "code",
      "source": [
        "def dik_ucgen(a,b,c):\n",
        "  ''' fonksiyon girilen degerlerin bir dik ucgen olusturup olusturmadigini\n",
        "  kontrol edecek. Dogru ise '' Aferin sana\n",
        "       bildin'' return verecek ve puani 3 arttiracak dogru sayisini 1 arttiracak\n",
        "      yanlis ise bilemedin return edecek ve puani 1  eksiltecek \n",
        "      yanlis sayisini 1 arttiracak'''"
      ],
      "metadata": {
        "id": "tmRBPqaxVo3q"
      },
      "execution_count": null,
      "outputs": []
    },
    {
      "cell_type": "markdown",
      "source": [
        "## Program buradan basliyor"
      ],
      "metadata": {
        "id": "KVur59FgcQYj"
      }
    },
    {
      "cell_type": "code",
      "source": [
        "isim = input(\"Merhaba, Senin adin ne? \")\n",
        "a = tani(isim)\n",
        "print(f\"{isim}, {tani()} \") # Fonksiyondan gelen cevap ekrana yazdirilir\n"
      ],
      "metadata": {
        "id": "nmY-ecaGh5gQ"
      },
      "execution_count": null,
      "outputs": []
    },
    {
      "cell_type": "code",
      "source": [
        "print(\"Sana bir kac soru sormak istiyorum. Bakalim kac puan alacaksin\")\n",
        "# Kullanicidan daha once girdigi isminini tersten yazmasini isteyecegiz\n",
        "tersten = input(\"Ismini tersten yazabilirmisin \") \n",
        "'''Girdigi degerin dogru olup olmadigini ters isimli \n",
        "fonksiyonu cagirarak kontrol edecegiz. eger dogru ise 3 puan \n",
        "verecegiz. yanlis ise bir puan dusurecegiz.'''\n",
        "print(ters())\n",
        "print(puan())"
      ],
      "metadata": {
        "id": "wVXFc8vloB4g"
      },
      "execution_count": null,
      "outputs": []
    },
    {
      "cell_type": "code",
      "source": [
        "'''burada kullanicidan bir cumle alacagiz, bu cumle en az 5 kelimeden olusana\n",
        " kadar sormaya devam edecegiz. '''\n",
        "\n",
        "cumle = input(\"Bana en az 5 kelimeden olusan bir cumle yazar misin?\")\n",
        "# Eger en az bes kelimeden olusan bir cevap verirse bir sonraki soruya geciyoruz\n",
        "cumle_cevap = input(\"Simdi de bana cumlenin sondan ikinci kelimesini yazarmisin\")\n",
        "print(cumle_son_iki())\n",
        "print(puan())"
      ],
      "metadata": {
        "id": "SEXirHX1r9o9"
      },
      "execution_count": null,
      "outputs": []
    },
    {
      "cell_type": "code",
      "source": [
        "''' burada kullanicidan bir sayi alacagiz ve o sayidan buyuk en kucuk fibonacci\n",
        "sayisini soracagiz.'''\n",
        "fib_say = input(\"bir sayi giriniz\")\n",
        "fib_cevap = input(\"simdi bu sayidan buyuk en kucuk fibonacci sayisini giriniz\")\n",
        "fibonacci(fib_say,fib_cevap)\n",
        "print(puan())"
      ],
      "metadata": {
        "id": "RLmUhF1NM3D6"
      },
      "execution_count": null,
      "outputs": []
    },
    {
      "cell_type": "code",
      "source": [
        "'''Burada kullanicidan kenarlari tamsayi olan bir kik ucgenin kenarlarini\n",
        "girmesini istiyecegiz'''\n",
        "a,b,c = input(\"kenarlari tamsayi olan bir ucgenin kenar uzunluklarini giriniz\")\n",
        "dik_ucgen(a,b,c)\n",
        "print(puan())"
      ],
      "metadata": {
        "id": "0tsjOev_TIxR"
      },
      "execution_count": null,
      "outputs": []
    },
    {
      "cell_type": "code",
      "source": [
        "Print(\"Seni tanimak guzeldi\")\n"
      ],
      "metadata": {
        "id": "Pjnx1nZ6WBvF"
      },
      "execution_count": null,
      "outputs": []
    }
  ]
}