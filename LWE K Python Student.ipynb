{
 "cells": [
  {
   "cell_type": "code",
   "execution_count": 1,
   "metadata": {
    "id": "RQdK7_CL6Xvc"
   },
   "outputs": [
    {
     "name": "stdout",
     "output_type": "stream",
     "text": [
      "Date-1 (DD.MM.YYYY): 20.10.2019\n",
      "Date-2 (DD.MM.YYYY): 24.12.2019\n"
     ]
    }
   ],
   "source": [
    "# İki tarih arasında kaç gün var?\n",
    "\"\"\"\n",
    "  Kullanıcıdan \"30.10.2020\" formatında iki adet tarih alın ve bu tarihler arasındaki \"gün sayısını\" bulunuz.\n",
    "  Kurallar:\n",
    "  * \"import\" kullanılamaz.\n",
    "  * \"def\" kullanılabilir.\n",
    "  * Her ay kendi gün sayısında değerlendirilecektir. (Oca:31, Şub:28, Mar: 31, ...)\n",
    "  * Sonuç 1 gün toleranslıdır. (Şubat ayından dolayı, sonuç \"1 gün eksik/fazla\" çıkabilir.)\n",
    "  İpucu:\n",
    "  * months = (0, 31, 28, 31, 30, 31, 30, 31, 31, 30, 31, 30, 31)\n",
    "\"\"\"\n",
    "# -----------------------------------------\n",
    "date1 = input('Date-1 (DD.MM.YYYY): ')\n",
    "date2 = input('Date-2 (DD.MM.YYYY): ')\n",
    "# -----------------------------------------"
   ]
  },
  {
   "cell_type": "code",
   "execution_count": 4,
   "metadata": {},
   "outputs": [
    {
     "name": "stdout",
     "output_type": "stream",
     "text": [
      "<enumerate object at 0x000001A4683E5840>\n"
     ]
    }
   ],
   "source": [
    "months = (0, 31, 28, 31, 30, 31, 30, 31, 31, 30, 31, 30, 31)\n",
    "ayın_günleri = enumerate(months)\n",
    "print(ayın_günleri)"
   ]
  },
  {
   "cell_type": "code",
   "execution_count": null,
   "metadata": {
    "id": "e-7iyZdrHM6o"
   },
   "outputs": [],
   "source": [
    "# Fonksiyon sorusunu, programlama ile çözelim.\n",
    "\"\"\"\n",
    "  Aşağıdaki soruyu çözen bir fonksiyon yazıp, sonucu yazdırınız:\n",
    "    \"f(x) = |x-2|-|x|\" olduğuna göre \"f(-1)+f(0)+f(1)\" toplamı kaçtır? (2003/ÖSS)\n",
    "\"\"\"\n",
    "# -----------------------------------------"
   ]
  },
  {
   "cell_type": "code",
   "execution_count": 21,
   "metadata": {},
   "outputs": [
    {
     "name": "stdout",
     "output_type": "stream",
     "text": [
      "2\n",
      "2\n",
      "0\n"
     ]
    }
   ],
   "source": [
    "def fonksiyon(a) :\n",
    "    print(abs(a-2) - abs(a))\n",
    "fonksiyon(-1)\n",
    "fonksiyon(0)\n",
    "fonksiyon(1)"
   ]
  },
  {
   "cell_type": "code",
   "execution_count": 23,
   "metadata": {},
   "outputs": [
    {
     "data": {
      "text/plain": [
       "4"
      ]
     },
     "execution_count": 23,
     "metadata": {},
     "output_type": "execute_result"
    }
   ],
   "source": [
    "def fonksiyon(a) :\n",
    "    return abs(a-2) - abs(a)\n",
    "fonksiyon(-1) + fonksiyon(0) + fonksiyon(1)"
   ]
  },
  {
   "cell_type": "code",
   "execution_count": null,
   "metadata": {
    "id": "jSLEVP9xTMIp"
   },
   "outputs": [],
   "source": [
    "# Fonksiyon sorusunu, programlama ile çözelim.\n",
    "\"\"\"\n",
    "  Aşağıdaki soruyu çözen bir fonksiyon yazıp, sonucu yazdırınız:\n",
    "    \"f(x) = x^2\" ve \"g(x) = 2x-1\" fonksiyonları için \"g(f(2))\" sonucu kaçtır? (2010/YGS)\n",
    "  Not:\n",
    "  * x^2 = x üssü 2 (x'in karesi)\n",
    "\"\"\"\n",
    "# -----------------------------------------"
   ]
  },
  {
   "cell_type": "code",
   "execution_count": 24,
   "metadata": {},
   "outputs": [
    {
     "data": {
      "text/plain": [
       "7"
      ]
     },
     "execution_count": 24,
     "metadata": {},
     "output_type": "execute_result"
    }
   ],
   "source": [
    "def fonksiyon(f) :\n",
    "    return 2 * (f**2) - 1\n",
    "fonksiyon(2)"
   ]
  },
  {
   "cell_type": "code",
   "execution_count": null,
   "metadata": {
    "id": "ZUK1P7_bUnut"
   },
   "outputs": [],
   "source": [
    "# Fonksiyon sorusunu, programlama ile çözelim.\n",
    "\"\"\"\n",
    "  Aşağıdaki soruyu çözen bir fonksiyon yazıp, sonucu yazdırınız:\n",
    "  * \"f(x) = 3(3x+1)-1\" fonksiyonu için \"f(x) = 20\" için \"x değeri\" kaçtır?\n",
    "\"\"\"\n",
    "# -----------------------------------------"
   ]
  },
  {
   "cell_type": "code",
   "execution_count": 25,
   "metadata": {},
   "outputs": [
    {
     "ename": "SyntaxError",
     "evalue": "invalid syntax (Temp/ipykernel_29620/165164800.py, line 2)",
     "output_type": "error",
     "traceback": [
      "\u001b[1;36m  File \u001b[1;32m\"C:\\Users\\user\\AppData\\Local\\Temp/ipykernel_29620/165164800.py\"\u001b[1;36m, line \u001b[1;32m2\u001b[0m\n\u001b[1;33m    if 3*(3x +1) -1 == 20 :\u001b[0m\n\u001b[1;37m           ^\u001b[0m\n\u001b[1;31mSyntaxError\u001b[0m\u001b[1;31m:\u001b[0m invalid syntax\n"
     ]
    }
   ],
   "source": [
    "def fonk(x) :\n",
    "    if 3*(3x +1) -1 == 20 :\n",
    "        print(x)"
   ]
  },
  {
   "cell_type": "code",
   "execution_count": 27,
   "metadata": {
    "id": "vLL9p8s96zEm"
   },
   "outputs": [
    {
     "name": "stdout",
     "output_type": "stream",
     "text": [
      "Input maximum number: 5\n"
     ]
    }
   ],
   "source": [
    "# Hangi sayılar pisagor üçgeni oluşturur?\n",
    "\"\"\"\n",
    "  Kullacıdan bir tam sayı isteyiniz (örneğin: 100) ve \"1'den bu sayıya kadar\" olan sayılarda, \"hangi sayıların pisagor bağıntısı\" oluşturduğunu bulunuz.\n",
    "  * Pisagor Bağıntısı -> a**2 + b**2 = h**2\n",
    "  Kurallar:\n",
    "  * \"import\" kullanılamaz.\n",
    "  * Kullanıcıdan alınan sayı, aramaya dahildir.\n",
    "  İpucu:\n",
    "  * \"Kök alma\" için \"1/2 ile üs\" alınabilir. Örnek: 4**0.5=2\n",
    "\"\"\"\n",
    "# -----------------------------------------\n",
    "max_int = input(\"Input maximum number: \")\n",
    "# -----------------------------------------"
   ]
  },
  {
   "cell_type": "code",
   "execution_count": 34,
   "metadata": {},
   "outputs": [
    {
     "name": "stdout",
     "output_type": "stream",
     "text": [
      "number :100\n"
     ]
    }
   ],
   "source": [
    "a = int(input(\"number :\"))\n",
    "\n",
    "def pisagor(b, c, d) :\n",
    "    \n",
    "    for b in range(a+1) :\n",
    "        for c in range(a+1) :\n",
    "            for d in range(a+1) :\n",
    "                if b**2 + c**2 == (d**2)*0.5 :\n",
    "                    print(b, c, d)"
   ]
  },
  {
   "cell_type": "code",
   "execution_count": null,
   "metadata": {
    "id": "OcOLSRlgfEmu"
   },
   "outputs": [],
   "source": [
    "# Sepetteki adetleri ve tutarlarını bulalım.\n",
    "\"\"\"\n",
    "  Kullanıcıdan \"kaç adet eşya\" istediğini sorun ve \"seçtiği eşyaların\" numarasını isteyin. (Örnek: kırmızı gömlek için \"1\" girilmelidir.)\n",
    "  Sonucu örnekteki gibi yazdırın. Örnek Çıktı:\n",
    "    Alınan: 2 adet Gömlek, 2 adet Pantolon, 3 adet Mavi, 1 adet Kırmızı \n",
    "    Toplam: 4 adet, 50.5O TL\n",
    "  Veri (Eşyalar):\n",
    "    clothes = {\n",
    "      #:('Type', 'Color', 'Price'),\n",
    "      1:(\"Shirt\", \"Red\", 10.00),\n",
    "      2:(\"Shirt\", \"Blue\", 11.50),\n",
    "      3:(\"Shirt\", \"Yellow\", 12.00),\n",
    "      4:(\"Pants\", \"Red\", 13.50),\n",
    "      5:(\"Pants\", \"Blue\", 14.00),\n",
    "      6:(\"Pants\", \"Yellow\", 15.50),\n",
    "      7:(\"Tie\", \"Red\", 16.00),\n",
    "      8:(\"Tie\", \"Blue\", 17.50),\n",
    "      9:(\"Tie\", \"Yellow\", 18.00)\n",
    "    }\n",
    "\"\"\"\n",
    "# -----------------------------------------\n",
    "clothes = {\n",
    "  #:('Type', 'Color', 'Price'),\n",
    "  1:(\"Shirt\", \"Red\", 10.00),\n",
    "  2:(\"Shirt\", \"Blue\", 11.50),\n",
    "  3:(\"Shirt\", \"Yellow\", 12.00),\n",
    "  4:(\"Pants\", \"Red\", 13.50),\n",
    "  5:(\"Pants\", \"Blue\", 14.00),\n",
    "  6:(\"Pants\", \"Yellow\", 15.50),\n",
    "  7:(\"Tie\", \"Red\", 16.00),\n",
    "  8:(\"Tie\", \"Blue\", 17.50),\n",
    "  9:(\"Tie\", \"Yellow\", 18.00)\n",
    "}\n",
    "for i in clothes: print('input [', i, '] for', clothes[i])\n",
    "count = int(input('How many do you want to buy? [0-9]: '))\n",
    "# -----------------------------------------"
   ]
  }
 ],
 "metadata": {
  "colab": {
   "collapsed_sections": [],
   "name": "Python-Workshop-1.ipynb",
   "provenance": []
  },
  "kernelspec": {
   "display_name": "Python 3 (ipykernel)",
   "language": "python",
   "name": "python3"
  },
  "language_info": {
   "codemirror_mode": {
    "name": "ipython",
    "version": 3
   },
   "file_extension": ".py",
   "mimetype": "text/x-python",
   "name": "python",
   "nbconvert_exporter": "python",
   "pygments_lexer": "ipython3",
   "version": "3.9.7"
  }
 },
 "nbformat": 4,
 "nbformat_minor": 1
}
